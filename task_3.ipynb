{
  "nbformat": 4,
  "nbformat_minor": 0,
  "metadata": {
    "colab": {
      "provenance": [],
      "gpuType": "T4"
    },
    "kernelspec": {
      "name": "python3",
      "display_name": "Python 3"
    },
    "language_info": {
      "name": "python"
    },
    "accelerator": "GPU"
  },
  "cells": [
    {
      "cell_type": "code",
      "execution_count": 11,
      "metadata": {
        "colab": {
          "base_uri": "https://localhost:8080/"
        },
        "id": "Bg-Aw0gQPDVw",
        "outputId": "34bced0e-3865-4b53-e450-4b0e467b997a"
      },
      "outputs": [
        {
          "output_type": "stream",
          "name": "stdout",
          "text": [
            "2025-07-24 16:38:06,235 - INFO - DataCleaner initialized with configuration.\n",
            "2025-07-24 16:38:06,243 - INFO - Successfully loaded /content/utterances_metadata.csv with 2000 rows.\n",
            "Processing rows: 100% 2000/2000 [00:00<00:00, 12275.05it/s]\n",
            "2025-07-24 16:38:06,440 - INFO - Processing complete.\n",
            "2025-07-24 16:38:06,440 - INFO - 1271 rows saved to output/train_ready.csv\n",
            "2025-07-24 16:38:06,440 - INFO - 729 rows saved to output/rejected.csv\n"
          ]
        }
      ],
      "source": [
        "!python -m sample_data.india_speaks_cleaner.indian_speaker_cleaner.main --input-csv /content/utterances_metadata.csv --output-dir ./output"
      ]
    },
    {
      "cell_type": "code",
      "source": [
        "pip install unidecode"
      ],
      "metadata": {
        "colab": {
          "base_uri": "https://localhost:8080/"
        },
        "id": "A2bg8xByR-Od",
        "outputId": "b7443faf-0407-4187-bea8-c7e81fecada8"
      },
      "execution_count": 6,
      "outputs": [
        {
          "output_type": "stream",
          "name": "stdout",
          "text": [
            "Collecting unidecode\n",
            "  Downloading Unidecode-1.4.0-py3-none-any.whl.metadata (13 kB)\n",
            "Downloading Unidecode-1.4.0-py3-none-any.whl (235 kB)\n",
            "\u001b[?25l   \u001b[90m━━━━━━━━━━━━━━━━━━━━━━━━━━━━━━━━━━━━━━━━\u001b[0m \u001b[32m0.0/235.8 kB\u001b[0m \u001b[31m?\u001b[0m eta \u001b[36m-:--:--\u001b[0m\r\u001b[2K   \u001b[90m━━━━━━━━━━━━━━━━━━━━━━━━━━━━━━━━━━━━━━━━\u001b[0m \u001b[32m235.8/235.8 kB\u001b[0m \u001b[31m6.9 MB/s\u001b[0m eta \u001b[36m0:00:00\u001b[0m\n",
            "\u001b[?25hInstalling collected packages: unidecode\n",
            "Successfully installed unidecode-1.4.0\n"
          ]
        }
      ]
    },
    {
      "cell_type": "markdown",
      "source": [],
      "metadata": {
        "id": "uIv6R8mSWvW2"
      }
    }
  ]
}